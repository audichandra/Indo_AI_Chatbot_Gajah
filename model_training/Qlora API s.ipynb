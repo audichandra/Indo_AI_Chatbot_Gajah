{
 "cells": [
  {
   "cell_type": "code",
   "execution_count": 1,
   "id": "8e7867f1",
   "metadata": {},
   "outputs": [
    {
     "name": "stderr",
     "output_type": "stream",
     "text": [
      "[nltk_data] Downloading package punkt to /root/nltk_data...\n",
      "[nltk_data]   Package punkt is already up-to-date!\n"
     ]
    }
   ],
   "source": [
    "from datasets import load_dataset, Dataset, load_metric\n",
    "from transformers import pipeline, AutoTokenizer, AutoModelForCausalLM, AutoConfig, LlamaTokenizer\n",
    "#from transformers import AdapterConfig, AdapterType\n",
    "from transformers import TrainingArguments, Trainer, BitsAndBytesConfig, DataCollatorWithPadding\n",
    "import torch\n",
    "from torch.utils.data import Dataset, DataLoader\n",
    "import pandas as pd\n",
    "import numpy as np\n",
    "import csv\n",
    "import re\n",
    "import nltk\n",
    "import pickle\n",
    "import os\n",
    "import time\n",
    "nltk.download('punkt')\n",
    "from nltk.tokenize import sent_tokenize, word_tokenize\n",
    "from nltk.translate.bleu_score import corpus_bleu\n",
    "from sacrebleu.metrics import BLEU, CHRF\n",
    "from fastapi import FastAPI, HTTPException\n",
    "from pydantic import BaseModel\n",
    "import os\n",
    "os.environ['CUDA_LAUNCH_BLOCKING'] = \"1\"\n",
    "from sklearn.model_selection import train_test_split\n",
    "from sklearn.metrics import accuracy_score, precision_recall_fscore_support, hamming_loss, accuracy_score\n",
    "from peft import PeftModel, PeftConfig\n",
    "import sacrebleu\n",
    "import logging\n",
    "import bitsandbytes as bnb\n",
    "from bitsandbytes.optim import GlobalOptimManager\n",
    "#from trl import SFTTrainer\n",
    "#import optimum\n",
    "#import adapter-transformers\n",
    "from torch.nn import DataParallel\n",
    "logging.basicConfig(level=logging.INFO)"
   ]
  },
  {
   "cell_type": "code",
   "execution_count": 2,
   "id": "8c889bbc",
   "metadata": {},
   "outputs": [],
   "source": [
    "def format_response(response: str) -> str:\n",
    "    # Add a newline before and after each list item\n",
    "    formatted_response = re.sub(r'(\\d+\\.)', r'\\n\\1\\n', response)\n",
    "\n",
    "    # Add a newline before the start of the numbered list\n",
    "    formatted_response = re.sub(r'(\\:\\s*)\\n(\\d+\\.)', r'\\1\\n\\n\\2', formatted_response)\n",
    "\n",
    "    # Remove unwanted newlines following list numbers\n",
    "    formatted_response = re.sub(r'(\\d+\\.)\\n\\s+', r'\\1 ', formatted_response)\n",
    "\n",
    "    # Identify the last item of the list and add an extra paragraph break if needed\n",
    "    formatted_response = re.sub(r'(\\d+\\.\\s.*?\\.)\\s+(\\w)', r'\\1\\n\\n\\2', formatted_response)\n",
    "\n",
    "    # Clean up: Ensure there are not more than two consecutive newlines\n",
    "    formatted_response = re.sub(r'\\n{3,}', '\\n\\n', formatted_response)\n",
    "    formatted_response = formatted_response.strip()\n",
    "\n",
    "    return formatted_response\n",
    "\n",
    "def adjust_list_spacing(formatted_response: str) -> str:\n",
    "    # Correctly format each list item with a single line break\n",
    "    # Replace multiple newlines with a single newline after list numbers\n",
    "    adjusted_response = re.sub(r'(\\d+\\.)\\s*\\n+', r'\\1 ', formatted_response)\n",
    "\n",
    "    # Add a newline after each list item\n",
    "    adjusted_response = re.sub(r'(\\d+\\.[^\\n]*)(?=\\n\\d+|$)', r'\\1\\n', adjusted_response)\n",
    "\n",
    "    # Special handling for the last list item: Check if there is more content after it\n",
    "    last_item_match = re.search(r'(\\d+\\.\\s.*?)(?=\\n\\d+|$)', adjusted_response, re.DOTALL)\n",
    "    if last_item_match:\n",
    "        last_item = last_item_match.group(1)\n",
    "        # If the last item is followed by more content, add an extra paragraph break\n",
    "        if re.search(r'\\.\\s', last_item.split('.')[1]):\n",
    "            adjusted_response = re.sub(last_item + r'\\n', last_item + '\\n\\n', adjusted_response, 1, re.DOTALL)\n",
    "\n",
    "    return adjusted_response.strip() \n"
   ]
  },
  {
   "cell_type": "code",
   "execution_count": 3,
   "id": "4e680405",
   "metadata": {},
   "outputs": [
    {
     "data": {
      "application/vnd.jupyter.widget-view+json": {
       "model_id": "2476698de0e54114bfffaff0cefc8cfb",
       "version_major": 2,
       "version_minor": 0
      },
      "text/plain": [
       "Loading checkpoint shards:   0%|          | 0/3 [00:00<?, ?it/s]"
      ]
     },
     "metadata": {},
     "output_type": "display_data"
    },
    {
     "name": "stderr",
     "output_type": "stream",
     "text": [
      "Special tokens have been added in the vocabulary, make sure the associated word embeddings are fine-tuned or trained.\n",
      "/usr/local/lib/python3.10/dist-packages/transformers/generation/utils.py:1473: UserWarning: You have modified the pretrained model configuration to control generation. This is a deprecated strategy to control generation and will be removed soon, in a future version. Please use and modify the model generation configuration (see https://huggingface.co/docs/transformers/generation_strategies#default-text-generation-configuration )\n",
      "  warnings.warn(\n"
     ]
    },
    {
     "name": "stdout",
     "output_type": "stream",
     "text": [
      "Saya telah mengambil bahwa Anda mencari bantuan dengan membatalkan pembelian Anda. Untuk membatalkan pembelian, silakan ikuti langkah-langkah ini: \n",
      "\n",
      "1. Masuk ke akun Anda di situs kami.\n",
      "\n",
      "2. Pergi ke bagian \"Order History\" atau \"My Orders.\" \n",
      "\n",
      "3. Temukan pembelian yang ingin Anda batalkan dan klik di atasnya.\n",
      "\n",
      "4. Cari pilihan \"Batal Pembelian\" dan pilih itu. \n",
      "\n",
      "5. Ikuti instruksi tambahan yang disediakan oleh sistem untuk menyelesaikan proses pembatalan.\n",
      "\n",
      "Jika Anda menghadapi kesulitan atau memiliki pertanyaan lebih lanjut, jangan ragu untuk menghubungi tim pendukung pelanggan kami. Mereka tersedia {{Customer Support Hours}} di {{Customer Support Phone Number}} atau melalui Chat Langsung di website kami di {{Website URL}}. Kami di sini untuk membantu Anda dan memastikan pengalaman pembatalan yang halus.\n",
      "Elapsed time: 102.7834701538086 seconds\n"
     ]
    }
   ],
   "source": [
    "#BNB_CONFIG = BitsAndBytesConfig(load_in_4bit=True, bnb_4bit_compute_dtype=torch.bfloat16, bnb_4bit_use_double_quant=True, bnb_4bit_quant_type=\"nf4\")\n",
    "#model_save_path1 = \"/workspace/axolotl/merged_model\"\n",
    "model_chat = \"audichandra/Ind_chatbot\"\n",
    "device = torch.device(\"cuda\" if torch.cuda.is_available() else \"cpu\")\n",
    "model1 = AutoModelForCausalLM.from_pretrained(model_chat\n",
    "                                              , torch_dtype=torch.bfloat16\n",
    "                                              #, device_map=\"auto\", pad_token_id=0 \n",
    "                                              #, attn_implementation=\"flash_attention_2\"  \n",
    "                                              , cache_dir=\"/workspace\"\n",
    "                                              #, quantization_config=BNB_CONFIG\n",
    "                                             ).to(device)\n",
    "model_id = \"Ichsan2895/Merak-7B-v4\"\n",
    "tokenizer = LlamaTokenizer.from_pretrained(model_id)\n",
    "\n",
    "def generate_response(question: str) -> str:\n",
    "    chat = [\n",
    "      {\"role\": \"system\", \"content\": \"Ada yang bisa saya bantu?\"},\n",
    "      {\"role\": \"user\", \"content\": question},\n",
    "    ]\n",
    "\n",
    "    prompt = tokenizer.apply_chat_template(chat, tokenize=False, add_generation_prompt=True)\n",
    "    inputs = tokenizer(prompt, return_tensors=\"pt\", return_attention_mask=True)\n",
    "\n",
    "    inputs = inputs.to(device)  # Ensure inputs are on the same device as the model\n",
    "\n",
    "    with torch.no_grad():\n",
    "        outputs = model1.generate(**inputs, max_new_tokens=512)\n",
    "        response = tokenizer.batch_decode(outputs, skip_special_tokens=True)[0]\n",
    "\n",
    "        assistant_start = f'''{question} \\n assistant\\n '''\n",
    "        response_start = response.find(assistant_start)\n",
    "        response_formatted = format_response(response[response_start + len(assistant_start):].strip())\n",
    "        final_response = adjust_list_spacing(response_formatted)\n",
    "        return final_response\n",
    "\n",
    "\n",
    "# Use the functions together\n",
    "start_time = time.time()\n",
    "prompt = \"bagaimana saya dapat membatalkan pembelian saya?\"\n",
    "print(generate_response(prompt))\n",
    "\n",
    "end_time = time.time()\n",
    "elapsed_time = end_time - start_time \n",
    "print(f\"Elapsed time: {elapsed_time} seconds\")"
   ]
  },
  {
   "cell_type": "code",
   "execution_count": 5,
   "id": "0cd43ec6",
   "metadata": {},
   "outputs": [
    {
     "name": "stdout",
     "output_type": "stream",
     "text": [
      "Terima kasih sudah menghubungi! Saya di sini untuk membantu Anda dalam melacak pesanan Anda. Untuk melacak pesanan Anda, Anda dapat mengunjungi situs web kami dan menavigasi ke bagian \"Order Tracking.\" Di sana, Anda akan diminta untuk memasukkan nomor pesanan Anda atau rincian relevan lainnya. Setelah Anda memasukkan informasi yang diperlukan, sistem akan menampilkan status pesanan Anda saat ini dan memperbarui Anda pada kemajuan. Jika Anda memiliki pertanyaan lebih lanjut atau membutuhkan bantuan dengan proses pelacakan, jangan ragu untuk bertanya. Saya di sini untuk membantu Anda setiap langkah dari jalan!\n",
      "Elapsed time: 25.907153844833374 seconds\n"
     ]
    }
   ],
   "source": [
    "start_time = time.time() \n",
    "prompt = \"bagaimana saya bisa melacak pesanan saya?\"\n",
    "print(generate_response(prompt))\n",
    "\n",
    "end_time = time.time()\n",
    "elapsed_time = end_time - start_time \n",
    "print(f\"Elapsed time: {elapsed_time} seconds\")"
   ]
  },
  {
   "cell_type": "code",
   "execution_count": 6,
   "id": "91474684",
   "metadata": {},
   "outputs": [
    {
     "name": "stdout",
     "output_type": "stream",
     "text": [
      "Saya telah mengambil bahwa Anda mencari bantuan dengan memulihkan barang dan ingin tahu tentang ketentuan pengembalian dana. Untuk memulai proses pengembalian dana, silakan ikuti langkah-langkah ini: \n",
      "\n",
      "1. Hubungi tim pendukung pelanggan kami melalui telepon atau obrolan langsung di situs web kami.\n",
      "\n",
      "2. Berikan perincian yang diperlukan, seperti nomor pesanan Anda atau informasi relevan lainnya. \n",
      "\n",
      "3. Jelaskan alasan untuk meminta pengembalian dana dan menyediakan dokumentasi atau bukti yang diperlukan.\n",
      "\n",
      "4. Tim pendukung pelanggan kami akan meninjau permintaan Anda dan membimbing Anda melalui proses pengembalian dana. \n",
      "\n",
      "5. Setelah pengembalian dana disetujui, Anda akan menerima instruksi tentang cara melanjutkan dengan pengembalian dana.\n",
      "\n",
      "6. Jika Anda memiliki pertanyaan atau kekhawatiran lebih lanjut, jangan ragu untuk menjangkau tim pendukung pelanggan kami untuk bantuan. Ketentuan pengembalian dana mungkin berbeda - beda bergantung pada produk atau jasa yang Anda beli. Untuk mendapatkan informasi yang akurat tentang ketentuan pengembalian dana, saya sarankan meninjau kebijakan pengembalian dana kami di situs web kami atau menghubungi tim pendukung pelanggan kami untuk bantuan. Mereka akan dapat menyediakan Anda dengan rincian spesifik yang berlaku untuk pembelian Anda.\n",
      "Elapsed time: 66.50099325180054 seconds\n"
     ]
    }
   ],
   "source": [
    "start_time = time.time() \n",
    "prompt = \"bagaimana saya bisa mengembalikan barang dan apakah ketentuan pengembaliannya?\"\n",
    "print(generate_response(prompt))\n",
    "\n",
    "end_time = time.time()\n",
    "elapsed_time = end_time - start_time \n",
    "print(f\"Elapsed time: {elapsed_time} seconds\")"
   ]
  },
  {
   "cell_type": "code",
   "execution_count": 7,
   "id": "6a49842b",
   "metadata": {},
   "outputs": [
    {
     "name": "stdout",
     "output_type": "stream",
     "text": [
      "Tentu saja! Saya di sini untuk membantu Anda dengan masalah yang Anda hadapi dengan pembayaran Anda. Untuk membantu Anda lebih baik, dapatkah Anda memberikan lebih banyak perincian tentang problem spesifik yang sedang Anda hadapi? Ini akan memungkinkan saya untuk memberikan Anda dengan solusi yang paling akurat dan efektif.\n",
      "Elapsed time: 14.181119441986084 seconds\n"
     ]
    }
   ],
   "source": [
    "start_time = time.time() \n",
    "prompt = \"saya ada masalah dengan pembayaran, apakah bisa kamu bantu?\"\n",
    "print(generate_response(prompt))\n",
    "\n",
    "end_time = time.time()\n",
    "elapsed_time = end_time - start_time \n",
    "print(f\"Elapsed time: {elapsed_time} seconds\")"
   ]
  },
  {
   "cell_type": "code",
   "execution_count": 8,
   "id": "1751b856",
   "metadata": {},
   "outputs": [
    {
     "name": "stdout",
     "output_type": "stream",
     "text": [
      "Tentu saja! Saya di sini untuk membantu Anda dengan mengubah password Anda. Untuk membuat proses sehalus mungkin, silakan ikuti langkah-langkah ini: \n",
      "\n",
      "1. Masuk ke akun Anda pada platform kami.\n",
      "\n",
      "2. Navigasi ke pengaturan akun atau bagian profil Anda. \n",
      "\n",
      "3. Cari pilihan untuk mengubah atau mereset sandi Anda.\n",
      "\n",
      "4. Ikuti instruksi pada layar untuk membuat sandi baru yang aman. \n",
      "\n",
      "5. Pastikan untuk memilih sandi yang kuat dan unik yang mencakup kombinasi huruf, angka, dan karakter khusus.\n",
      "\n",
      "6. Setelah Anda membuat sandi baru, simpan perubahan dan periksa apakah Anda dapat masuk ke akun Anda menggunakan sandi baru. Jika Anda menghadapi kesulitan apa pun atau memiliki pertanyaan lebih lanjut, jangan ragu untuk membiarkan saya tahu. Saya di sini untuk membantu Anda setiap langkah dari jalan!\n",
      "Elapsed time: 35.469945192337036 seconds\n"
     ]
    }
   ],
   "source": [
    "start_time = time.time() \n",
    "prompt = \"bagaimana saya bisa mengubah password saya?\"\n",
    "print(generate_response(prompt))\n",
    "\n",
    "end_time = time.time()\n",
    "elapsed_time = end_time - start_time \n",
    "print(f\"Elapsed time: {elapsed_time} seconds\")"
   ]
  },
  {
   "cell_type": "code",
   "execution_count": 9,
   "id": "c6ce49d6",
   "metadata": {},
   "outputs": [
    {
     "name": "stdout",
     "output_type": "stream",
     "text": [
      "Tentu saja! Saya di sini untuk membantu Anda dalam menemukan diskon atau promosi yang berlaku. Tolong berikan saya rincian lebih lanjut tentang produk atau jasa yang Anda minati, dan saya akan melakukan yang terbaik untuk membantu Anda menemukan penawaran yang sesuai.\n",
      "Elapsed time: 10.407901048660278 seconds\n"
     ]
    }
   ],
   "source": [
    "start_time = time.time() \n",
    "prompt = \"apakah ada diskon atau promo yang berlaku?\"\n",
    "print(generate_response(prompt))\n",
    "\n",
    "end_time = time.time()\n",
    "elapsed_time = end_time - start_time \n",
    "print(f\"Elapsed time: {elapsed_time} seconds\")"
   ]
  },
  {
   "cell_type": "code",
   "execution_count": 10,
   "id": "7d035bb8",
   "metadata": {},
   "outputs": [
    {
     "name": "stdout",
     "output_type": "stream",
     "text": [
      "Tentu saja! Saya di sini untuk membantu Anda dengan masalah yang Anda hadapi dengan website kami. Untuk membantu Anda lebih baik, dapatkah Anda memberikan lebih banyak perincian tentang problem spesifik yang sedang Anda hadapi? Informasi ini akan memungkinkan saya untuk menyediakan Anda dengan bimbingan yang paling akurat dan efektif. Terima kasih sudah menghubungi kami, dan kami menghargai kesabaranmu.\n",
      "Elapsed time: 17.640464067459106 seconds\n"
     ]
    }
   ],
   "source": [
    "start_time = time.time() \n",
    "prompt = \"saya mengalami masalah dengan website anda, apakah anda bisa bantu?\"\n",
    "print(generate_response(prompt))\n",
    "\n",
    "end_time = time.time()\n",
    "elapsed_time = end_time - start_time \n",
    "print(f\"Elapsed time: {elapsed_time} seconds\")"
   ]
  },
  {
   "cell_type": "code",
   "execution_count": 11,
   "id": "5e13384d",
   "metadata": {},
   "outputs": [
    {
     "name": "stdout",
     "output_type": "stream",
     "text": [
      "Saya senang untuk membantu! Membuat akun baru dengan kami adalah proses yang mudah. Berikut panduan langkah demi langkah untuk membantu Anda: \n",
      "\n",
      "1. Kunjungi situs web kami di {{Website URL}}.\n",
      "\n",
      "2. Cari tombol \"Sign Up\" atau \"Create Account\" dan klik di atasnya. \n",
      "\n",
      "3. Isi informasi yang diperlukan, seperti nama lengkap, alamat email, dan sandi yang kuat.\n",
      "\n",
      "4. Periksa kembali rincian yang Anda masukkan untuk memastikan keakuratannya. \n",
      "\n",
      "5. Setujui persyaratan dan kondisi kami dan privasi policy.\n",
      "\n",
      "6. Klik tombol \"Create Account\" atau \"Sign Up\" untuk menyelesaikan proses penciptaan akun. Setelah Anda menyelesaikan langkah-langkah ini, Anda akan menerima email konfirmasi dengan instruksi tentang cara memverifikasi akun Anda. Jika Anda menghadapi kesulitan apa pun atau memiliki pertanyaan lebih lanjut, jangan ragu untuk menjangkau tim pendukung pelanggan kami. Mereka tersedia {{Customer Support Hours}} di {{Customer Support Phone Number}} atau melalui Chat Langsung di website kami di {{Website URL}}. Kami di sini untuk membuat proses penciptaan akun sehalus mungkin untuk Anda!\n",
      "Elapsed time: 47.25417184829712 seconds\n"
     ]
    }
   ],
   "source": [
    "start_time = time.time() \n",
    "prompt = \"bagaimana cara membuat akun baru?\"\n",
    "print(generate_response(prompt))\n",
    "\n",
    "end_time = time.time()\n",
    "elapsed_time = end_time - start_time \n",
    "print(f\"Elapsed time: {elapsed_time} seconds\")"
   ]
  },
  {
   "cell_type": "code",
   "execution_count": 12,
   "id": "f1a0116b",
   "metadata": {},
   "outputs": [
    {
     "name": "stdout",
     "output_type": "stream",
     "text": [
      "Saya menyesal mendengar bahwa Anda memiliki keluhan. Umpan balik Anda sangat berharga bagi kami, dan kami ingin memastikan bahwa kami mengatasi kekhawatiran Anda dengan tepat. Untuk mengajukan keluhan, Anda dapat menghubungi tim pendukung pelanggan kami melalui telepon, email, atau obrolan langsung di situs web kami. Mereka akan membimbing Anda melalui proses dan membantu Anda mengajukan keluhan secara efektif. Yakinlah, kami menanggapi keluhan dengan serius dan akan menyelidiki masalah ini dengan saksama. Terima kasih untuk membawa ini ke perhatian kami.\n",
      "Elapsed time: 24.867743730545044 seconds\n"
     ]
    }
   ],
   "source": [
    "start_time = time.time() \n",
    "prompt = \"saya ada keluhan, bagaimana cara mengajukannya\"\n",
    "print(generate_response(prompt))\n",
    "\n",
    "end_time = time.time()\n",
    "elapsed_time = end_time - start_time \n",
    "print(f\"Elapsed time: {elapsed_time} seconds\")"
   ]
  },
  {
   "cell_type": "code",
   "execution_count": 13,
   "id": "e1f77745",
   "metadata": {},
   "outputs": [
    {
     "name": "stdout",
     "output_type": "stream",
     "text": [
      "Terima kasih sudah menghubungi! Saya di sini untuk membantu Anda dalam menghubungi tim layanan pelanggan kami. Untuk menghubungi mereka, Anda dapat menghubungi mereka melalui telepon di {{Customer Support Phone Number}} atau melalui fitur Chat Live di website kami di {{Website URL}}. Tim kami tersedia untuk membantu Anda dengan pertanyaan atau kekhawatiran yang mungkin Anda miliki. Bagaimana saya bisa membantu Anda lebih lanjut?\n",
      "Elapsed time: 17.295284748077393 seconds\n"
     ]
    }
   ],
   "source": [
    "start_time = time.time() \n",
    "prompt = \"saya ingin menghubungi customer service?\"\n",
    "print(generate_response(prompt))\n",
    "\n",
    "end_time = time.time()\n",
    "elapsed_time = end_time - start_time \n",
    "print(f\"Elapsed time: {elapsed_time} seconds\")"
   ]
  },
  {
   "cell_type": "code",
   "execution_count": 14,
   "id": "9fc5557e",
   "metadata": {},
   "outputs": [
    {
     "name": "stdout",
     "output_type": "stream",
     "text": [
      "Terima kasih atas minat Anda dalam membeli barang kami! Saya di sini untuk membimbing Anda melalui proses dan membuatnya sehalus mungkin. Untuk memulai, bisakah Anda memberi saya rincian lebih lanjut tentang barang yang ingin Anda beli? Ini akan memungkinkan saya untuk memberikan Anda dengan informasi yang paling akurat dan membantu.\n",
      "Elapsed time: 13.417717933654785 seconds\n"
     ]
    }
   ],
   "source": [
    "start_time = time.time() \n",
    "prompt = \"bagaimana cara membeli barang anda?\"\n",
    "print(generate_response(prompt))\n",
    "\n",
    "end_time = time.time()\n",
    "elapsed_time = end_time - start_time \n",
    "print(f\"Elapsed time: {elapsed_time} seconds\")"
   ]
  },
  {
   "cell_type": "code",
   "execution_count": 15,
   "id": "4d6cb1df",
   "metadata": {},
   "outputs": [
    {
     "name": "stdout",
     "output_type": "stream",
     "text": [
      "Terima kasih atas minat Anda dalam meninjau produk kami! Untuk meninggalkan ulasan, Anda dapat mengunjungi situs web kami dan menavigasi halaman produk. Di sana, Anda akan menemukan bagian khusus di mana Anda dapat berbagi pikiran dan pengalaman Anda dengan produk. Ulasan Anda akan membantu pelanggan lain membuat keputusan yang terinformasi dan membantu kami meningkatkan penawaran kami. Jika Anda memiliki pertanyaan lebih lanjut atau membutuhkan bantuan dengan proses review, jangan ragu untuk bertanya!\n",
      "Elapsed time: 21.25312566757202 seconds\n"
     ]
    }
   ],
   "source": [
    "start_time = time.time() \n",
    "prompt = \"bagaimana cara untuk review produk ini?\"\n",
    "print(generate_response(prompt))\n",
    "\n",
    "end_time = time.time()\n",
    "elapsed_time = end_time - start_time \n",
    "print(f\"Elapsed time: {elapsed_time} seconds\")"
   ]
  },
  {
   "cell_type": "code",
   "execution_count": null,
   "id": "a753a17d-a92c-4ec5-a348-6dfcad206290",
   "metadata": {},
   "outputs": [],
   "source": []
  }
 ],
 "metadata": {
  "kernelspec": {
   "display_name": "Python 3 (ipykernel)",
   "language": "python",
   "name": "python3"
  },
  "language_info": {
   "codemirror_mode": {
    "name": "ipython",
    "version": 3
   },
   "file_extension": ".py",
   "mimetype": "text/x-python",
   "name": "python",
   "nbconvert_exporter": "python",
   "pygments_lexer": "ipython3",
   "version": "3.11.5"
  }
 },
 "nbformat": 4,
 "nbformat_minor": 5
}
